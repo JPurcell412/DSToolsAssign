{
 "cells": [
  {
   "cell_type": "markdown",
   "id": "9b5ea75b-30be-4724-b7bd-adea08bce682",
   "metadata": {},
   "source": [
    "# Data Science Tools and Ecosystem"
   ]
  },
  {
   "cell_type": "markdown",
   "id": "c6943f65-a106-42b4-84ea-194aaa3faba4",
   "metadata": {},
   "source": [
    "In this notebook, Data Science Tools and Ecosystem are summarized."
   ]
  },
  {
   "cell_type": "markdown",
   "id": "4d3cc0a2-b001-4d62-91c0-1ab3e2eb4718",
   "metadata": {},
   "source": [
    "**Objectives:**\n",
    "- List Data Science Languages\n",
    "- List Data Science Libraries\n",
    "- Provide a table of Open Source Data Science Development Tools\n",
    "- Show some arithmetic expression examples"
   ]
  },
  {
   "cell_type": "markdown",
   "id": "8e6af1e8-a39e-443b-b92a-e4cdff5726f7",
   "metadata": {},
   "source": [
    "Some of the popular languages that Data Scientists use are:\n",
    "1. Python\n",
    "2. R\n",
    "3. SQL\n",
    "4. Scala\n",
    "5. Java\n",
    "6. C++\n",
    "7. Julia"
   ]
  },
  {
   "cell_type": "markdown",
   "id": "4c5de941-b9db-4d36-b1cc-496e65ce8942",
   "metadata": {},
   "source": [
    "Some of the commonly used libraries used by Data Scientists include:\n",
    "1. pandas\n",
    "2. NumPy\n",
    "3. SciPy\n",
    "4. matploylib\n",
    "5. ggplot2\n",
    "6. scikit-learn"
   ]
  },
  {
   "cell_type": "markdown",
   "id": "2a5ff2fd-86e0-4d43-a8c9-f31c4c9106e1",
   "metadata": {},
   "source": [
    "| Data Science Tools |\n",
    "|--------------------|\n",
    "| Jupyter |\n",
    "| R Studio |\n",
    "| Spyder |"
   ]
  },
  {
   "cell_type": "markdown",
   "id": "e1ff3ee8-8d94-430a-8cc8-5201c81631e7",
   "metadata": {},
   "source": [
    "### Below are a few examples of evaluating arithmetic expressions in Python"
   ]
  },
  {
   "cell_type": "code",
   "execution_count": 19,
   "id": "6406f57c-8813-4d90-bb7b-1a2f00ceed77",
   "metadata": {},
   "outputs": [
    {
     "data": {
      "text/plain": [
       "17"
      ]
     },
     "execution_count": 19,
     "metadata": {},
     "output_type": "execute_result"
    }
   ],
   "source": [
    "# This is a simple arithmetic expression to multiply then add integers\n",
    "(3*4)+5"
   ]
  },
  {
   "cell_type": "code",
   "execution_count": 21,
   "id": "2458eb81-b720-4fc8-958f-026c4c71107d",
   "metadata": {},
   "outputs": [
    {
     "data": {
      "text/plain": [
       "3.3333333333333335"
      ]
     },
     "execution_count": 21,
     "metadata": {},
     "output_type": "execute_result"
    }
   ],
   "source": [
    "# This will convert 200 minutes to hours by dividing by 60.\n",
    "200/60"
   ]
  },
  {
   "cell_type": "markdown",
   "id": "caefff30-aca9-43ff-88ed-c4d02959062a",
   "metadata": {},
   "source": [
    "## Author\n",
    "Joan Purcell"
   ]
  },
  {
   "cell_type": "code",
   "execution_count": null,
   "id": "e8a1cd31-437b-47d3-9f05-69f87d855b3d",
   "metadata": {},
   "outputs": [],
   "source": []
  }
 ],
 "metadata": {
  "kernelspec": {
   "display_name": "Python [conda env:base] *",
   "language": "python",
   "name": "conda-base-py"
  },
  "language_info": {
   "codemirror_mode": {
    "name": "ipython",
    "version": 3
   },
   "file_extension": ".py",
   "mimetype": "text/x-python",
   "name": "python",
   "nbconvert_exporter": "python",
   "pygments_lexer": "ipython3",
   "version": "3.12.7"
  }
 },
 "nbformat": 4,
 "nbformat_minor": 5
}
